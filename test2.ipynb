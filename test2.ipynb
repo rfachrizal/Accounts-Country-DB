{
 "cells": [
  {
   "cell_type": "code",
   "execution_count": null,
   "metadata": {},
   "outputs": [],
   "source": [
    "# Library\n",
    "import psycopg2\n",
    "import pandas as pd"
   ]
  },
  {
   "cell_type": "code",
   "execution_count": null,
   "metadata": {},
   "outputs": [],
   "source": [
    "AccountsCountry = pd.read_csv(\"D:\\Code\\DE\\Model\\Wealth Data\\Wealth-AccountsCountry.csv\")"
   ]
  },
  {
   "cell_type": "code",
   "execution_count": null,
   "metadata": {},
   "outputs": [],
   "source": [
    "AccountsCountry = AccountsCountry[['Country Code', 'Short Name', 'Table Name', 'Long Name', 'Currency Unit']]\n",
    "# Drop duplicates based on 'Country Name' and keep the first occurrence\n",
    "AccountsCountry = AccountsCountry.drop_duplicates(subset=['Country Code'], keep='first')\n",
    "AccountsCountry"
   ]
  },
  {
   "cell_type": "code",
   "execution_count": null,
   "metadata": {},
   "outputs": [],
   "source": [
    "AccountData = pd.read_csv(\"D:\\Code\\DE\\Model\\Wealth Data\\Wealth-AccountData.csv\")\n",
    "\n",
    "# Mengubah nilai-nilai dalam kolom tahun-tahun menjadi tipe numerik\n",
    "year_columns = AccountData.columns[4:]  # Mengambil kolom dari tahun 1995 ke depan\n",
    "AccountData[year_columns] = AccountData[year_columns].apply(pd.to_numeric, errors='coerce')\n",
    "\n",
    "AccountData"
   ]
  },
  {
   "cell_type": "code",
   "execution_count": null,
   "metadata": {},
   "outputs": [],
   "source": [
    "AccountSeries = pd.read_csv(\"D:\\Code\\DE\\Model\\Wealth Data\\Wealth-AccountSeries.csv\")"
   ]
  },
  {
   "cell_type": "code",
   "execution_count": null,
   "metadata": {},
   "outputs": [],
   "source": [
    "AccountSeries = AccountSeries[['Series Code', 'Topic', 'Indicator Name', 'Long definition']]\n",
    "AccountSeries"
   ]
  },
  {
   "cell_type": "code",
   "execution_count": null,
   "metadata": {},
   "outputs": [],
   "source": [
    "def create_database():\n",
    "    # Connect to default database\n",
    "    conn = psycopg2.connect(\"host=localhost dbname=postgres user=postgres password=root\")\n",
    "    conn.set_session(autocommit=True)\n",
    "    cur = conn.cursor()\n",
    "\n",
    "    # Create sparkify database with UTF8 encoding\n",
    "    cur.execute(\"DROP DATABASE IF EXISTS accounts\")\n",
    "    cur.execute(\"CREATE DATABASE accounts\")\n",
    "\n",
    "    # Close connection to default database\n",
    "    conn.close()\n",
    "\n",
    "    # Connect to sparkify database\n",
    "    conn = psycopg2.connect(\"host=localhost dbname=accounts user=postgres password=root\")\n",
    "    cur = conn.cursor()\n",
    "\n",
    "    return cur, conn"
   ]
  },
  {
   "cell_type": "code",
   "execution_count": null,
   "metadata": {},
   "outputs": [],
   "source": [
    "cur, conn = create_database()"
   ]
  },
  {
   "cell_type": "code",
   "execution_count": null,
   "metadata": {},
   "outputs": [],
   "source": [
    "conn.rollback()"
   ]
  },
  {
   "cell_type": "code",
   "execution_count": null,
   "metadata": {},
   "outputs": [],
   "source": [
    "country_table_create = \"\"\"CREATE TABLE IF NOT EXISTS accountscountry(\n",
    "                        country_code VARCHAR PRIMARY KEY,\n",
    "                        short_name VARCHAR,\n",
    "                        table_name VARCHAR,\n",
    "                        long_name VARCHAR,\n",
    "                        currency_unit VARCHAR\n",
    ")\"\"\"\n",
    "\n",
    "cur.execute(country_table_create)\n",
    "conn.commit()"
   ]
  },
  {
   "cell_type": "code",
   "execution_count": null,
   "metadata": {},
   "outputs": [],
   "source": [
    "data_table_create = \"\"\"CREATE TABLE IF NOT EXISTS accountdata(\n",
    "                    country_name VARCHAR,\n",
    "                    country_code VARCHAR,\n",
    "                    indicator_name VARCHAR,\n",
    "                    indicator_code VARCHAR,\n",
    "                    year_1995 numeric, year_1996 numeric, year_1997 numeric, year_1998 numeric, year_1999 numeric, \n",
    "                    year_2000 numeric, year_2001 numeric, year_2002 numeric, year_2003 numeric, year_2004 numeric,\n",
    "                    year_2005 numeric, year_2006 numeric, year_2007 numeric, year_2008 numeric, year_2009 numeric,\n",
    "                    year_2010 numeric, year_2011 numeric, year_2012 numeric, year_2013 numeric, year_2014 numeric,\n",
    "                    year_2015 numeric, year_2016 numeric, year_2017 numeric, year_2018 numeric\n",
    ")\"\"\"\n",
    "\n",
    "cur.execute(data_table_create)\n",
    "conn.commit()"
   ]
  },
  {
   "cell_type": "code",
   "execution_count": null,
   "metadata": {},
   "outputs": [],
   "source": [
    "series_table_create = \"\"\"CREATE TABLE IF NOT EXISTS accountseries(\n",
    "                      series_code VARCHAR,\n",
    "                      topic VARCHAR,\n",
    "                      indicator_name VARCHAR,\n",
    "                      long_definition VARCHAR\n",
    ")\"\"\"\n",
    "\n",
    "cur.execute(series_table_create)\n",
    "conn.commit()"
   ]
  },
  {
   "cell_type": "code",
   "execution_count": null,
   "metadata": {},
   "outputs": [],
   "source": [
    "country_table_insert = \"\"\"INSERT INTO accountscountry(\n",
    "                        country_code,\n",
    "                        short_name,\n",
    "                        table_name,\n",
    "                        long_name,\n",
    "                        currency_unit)\n",
    "                        VALUES(%s, %s, %s, %s, %s\n",
    ")\"\"\""
   ]
  },
  {
   "cell_type": "code",
   "execution_count": null,
   "metadata": {},
   "outputs": [],
   "source": [
    "conn.rollback()"
   ]
  },
  {
   "cell_type": "code",
   "execution_count": null,
   "metadata": {},
   "outputs": [],
   "source": [
    "for i, row in AccountsCountry.iterrows():\n",
    "    cur.execute(country_table_insert, list(row))"
   ]
  },
  {
   "cell_type": "code",
   "execution_count": null,
   "metadata": {},
   "outputs": [],
   "source": [
    "data_table_insert = \"\"\"INSERT INTO accountdata(\n",
    "                    country_name,\n",
    "                    country_code,\n",
    "                    indicator_name,\n",
    "                    indicator_code,\n",
    "                    year_1995, year_1996, year_1997, year_1998, year_1999, \n",
    "                    year_2000, year_2001, year_2002, year_2003, year_2004,\n",
    "                    year_2005, year_2006, year_2007, year_2008, year_2009,\n",
    "                    year_2010, year_2011, year_2012, year_2013, year_2014,\n",
    "                    year_2015, year_2016, year_2017, year_2018)\n",
    "                    VALUES(%s, %s, %s, %s, %s, %s, %s, %s, %s, %s, %s, %s, %s, %s, %s, %s, %s, %s, %s, %s,  %s, %s, %s, %s,  %s, %s, %s, %s \n",
    ")\"\"\""
   ]
  },
  {
   "cell_type": "code",
   "execution_count": null,
   "metadata": {},
   "outputs": [],
   "source": [
    "for i, row in AccountData.iterrows():\n",
    "    cur.execute(data_table_insert, list(row))"
   ]
  },
  {
   "cell_type": "code",
   "execution_count": null,
   "metadata": {},
   "outputs": [],
   "source": [
    "series_table_insert = \"\"\"INSERT INTO accountseries(\n",
    "                      series_code,\n",
    "                      topic,\n",
    "                      indicator_name,\n",
    "                      long_definition)\n",
    "                      VALUES(%s, %s, %s, %s\n",
    ")\"\"\""
   ]
  },
  {
   "cell_type": "code",
   "execution_count": null,
   "metadata": {},
   "outputs": [],
   "source": [
    "for i, row in AccountSeries.iterrows():\n",
    "    cur.execute(series_table_insert, list(row))"
   ]
  },
  {
   "cell_type": "code",
   "execution_count": null,
   "metadata": {},
   "outputs": [],
   "source": [
    "conn.commit()"
   ]
  }
 ],
 "metadata": {
  "kernelspec": {
   "display_name": "ds",
   "language": "python",
   "name": "python3"
  },
  "language_info": {
   "codemirror_mode": {
    "name": "ipython",
    "version": 3
   },
   "file_extension": ".py",
   "mimetype": "text/x-python",
   "name": "python",
   "nbconvert_exporter": "python",
   "pygments_lexer": "ipython3",
   "version": "3.11.4"
  },
  "orig_nbformat": 4
 },
 "nbformat": 4,
 "nbformat_minor": 2
}
